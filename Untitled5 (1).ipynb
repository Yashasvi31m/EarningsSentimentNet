{
  "nbformat": 4,
  "nbformat_minor": 0,
  "metadata": {
    "colab": {
      "provenance": [],
      "gpuType": "T4"
    },
    "kernelspec": {
      "name": "python3",
      "display_name": "Python 3"
    },
    "language_info": {
      "name": "python"
    },
    "accelerator": "GPU"
  },
  "cells": [
    {
      "cell_type": "code",
      "execution_count": null,
      "metadata": {
        "id": "u0_ozbET0ncr"
      },
      "outputs": [],
      "source": [
        "!pip install transformers --quiet\n",
        "!pip install -q datasets\n"
      ]
    },
    {
      "cell_type": "code",
      "source": [
        "from transformers import AutoTokenizer, AutoModelForSequenceClassification\n",
        "from transformers import pipeline\n",
        "\n",
        "# Load FinBERT\n",
        "model_name = \"ProsusAI/finbert\"\n",
        "tokenizer = AutoTokenizer.from_pretrained(model_name)\n",
        "model = AutoModelForSequenceClassification.from_pretrained(model_name)\n",
        "\n",
        "# Create pipeline\n",
        "finbert = pipeline(\"sentiment-analysis\", model=model, tokenizer=tokenizer)\n"
      ],
      "metadata": {
        "colab": {
          "base_uri": "https://localhost:8080/"
        },
        "id": "9eHfszPt3af7",
        "outputId": "4deebeed-646f-4b00-cf39-9e92319dbe06"
      },
      "execution_count": null,
      "outputs": [
        {
          "output_type": "stream",
          "name": "stderr",
          "text": [
            "/usr/local/lib/python3.11/dist-packages/huggingface_hub/utils/_auth.py:94: UserWarning: \n",
            "The secret `HF_TOKEN` does not exist in your Colab secrets.\n",
            "To authenticate with the Hugging Face Hub, create a token in your settings tab (https://huggingface.co/settings/tokens), set it as secret in your Google Colab and restart your session.\n",
            "You will be able to reuse this secret in all of your notebooks.\n",
            "Please note that authentication is recommended but still optional to access public models or datasets.\n",
            "  warnings.warn(\n",
            "Device set to use cuda:0\n"
          ]
        }
      ]
    },
    {
      "cell_type": "code",
      "source": [
        "sentences = [\n",
        "    \"Gross margin increased by 200 basis points.\",\n",
        "    \"We expect continued pressure from foreign exchange.\",\n",
        "    \"The outcome of this regulatory decision is unclear.\",\n",
        "    \"Do you expect any slowdown in demand?\"\n",
        "]\n",
        "\n",
        "finbert(sentences)\n"
      ],
      "metadata": {
        "colab": {
          "base_uri": "https://localhost:8080/"
        },
        "id": "m3J5MMIk4OWd",
        "outputId": "c06ed609-b29a-4752-d762-2bb9b08b431d"
      },
      "execution_count": null,
      "outputs": [
        {
          "output_type": "execute_result",
          "data": {
            "text/plain": [
              "[{'label': 'positive', 'score': 0.9550251960754395},\n",
              " {'label': 'positive', 'score': 0.675687849521637},\n",
              " {'label': 'neutral', 'score': 0.9110185503959656},\n",
              " {'label': 'negative', 'score': 0.8442636728286743}]"
            ]
          },
          "metadata": {},
          "execution_count": 3
        }
      ]
    },
    {
      "cell_type": "code",
      "source": [
        "from google.colab import files\n",
        "uploaded = files.upload()\n"
      ],
      "metadata": {
        "colab": {
          "base_uri": "https://localhost:8080/",
          "height": 71
        },
        "id": "2tR0EK4O4lpw",
        "outputId": "738095c4-b3a0-4d3c-ebde-68bb3a70daa6"
      },
      "execution_count": null,
      "outputs": [
        {
          "output_type": "display_data",
          "data": {
            "text/plain": [
              "<IPython.core.display.HTML object>"
            ],
            "text/html": [
              "\n",
              "     <input type=\"file\" id=\"files-ca39d243-ac4d-480c-a495-57d6c31a2337\" name=\"files[]\" multiple disabled\n",
              "        style=\"border:none\" />\n",
              "     <output id=\"result-ca39d243-ac4d-480c-a495-57d6c31a2337\">\n",
              "      Upload widget is only available when the cell has been executed in the\n",
              "      current browser session. Please rerun this cell to enable.\n",
              "      </output>\n",
              "      <script>// Copyright 2017 Google LLC\n",
              "//\n",
              "// Licensed under the Apache License, Version 2.0 (the \"License\");\n",
              "// you may not use this file except in compliance with the License.\n",
              "// You may obtain a copy of the License at\n",
              "//\n",
              "//      http://www.apache.org/licenses/LICENSE-2.0\n",
              "//\n",
              "// Unless required by applicable law or agreed to in writing, software\n",
              "// distributed under the License is distributed on an \"AS IS\" BASIS,\n",
              "// WITHOUT WARRANTIES OR CONDITIONS OF ANY KIND, either express or implied.\n",
              "// See the License for the specific language governing permissions and\n",
              "// limitations under the License.\n",
              "\n",
              "/**\n",
              " * @fileoverview Helpers for google.colab Python module.\n",
              " */\n",
              "(function(scope) {\n",
              "function span(text, styleAttributes = {}) {\n",
              "  const element = document.createElement('span');\n",
              "  element.textContent = text;\n",
              "  for (const key of Object.keys(styleAttributes)) {\n",
              "    element.style[key] = styleAttributes[key];\n",
              "  }\n",
              "  return element;\n",
              "}\n",
              "\n",
              "// Max number of bytes which will be uploaded at a time.\n",
              "const MAX_PAYLOAD_SIZE = 100 * 1024;\n",
              "\n",
              "function _uploadFiles(inputId, outputId) {\n",
              "  const steps = uploadFilesStep(inputId, outputId);\n",
              "  const outputElement = document.getElementById(outputId);\n",
              "  // Cache steps on the outputElement to make it available for the next call\n",
              "  // to uploadFilesContinue from Python.\n",
              "  outputElement.steps = steps;\n",
              "\n",
              "  return _uploadFilesContinue(outputId);\n",
              "}\n",
              "\n",
              "// This is roughly an async generator (not supported in the browser yet),\n",
              "// where there are multiple asynchronous steps and the Python side is going\n",
              "// to poll for completion of each step.\n",
              "// This uses a Promise to block the python side on completion of each step,\n",
              "// then passes the result of the previous step as the input to the next step.\n",
              "function _uploadFilesContinue(outputId) {\n",
              "  const outputElement = document.getElementById(outputId);\n",
              "  const steps = outputElement.steps;\n",
              "\n",
              "  const next = steps.next(outputElement.lastPromiseValue);\n",
              "  return Promise.resolve(next.value.promise).then((value) => {\n",
              "    // Cache the last promise value to make it available to the next\n",
              "    // step of the generator.\n",
              "    outputElement.lastPromiseValue = value;\n",
              "    return next.value.response;\n",
              "  });\n",
              "}\n",
              "\n",
              "/**\n",
              " * Generator function which is called between each async step of the upload\n",
              " * process.\n",
              " * @param {string} inputId Element ID of the input file picker element.\n",
              " * @param {string} outputId Element ID of the output display.\n",
              " * @return {!Iterable<!Object>} Iterable of next steps.\n",
              " */\n",
              "function* uploadFilesStep(inputId, outputId) {\n",
              "  const inputElement = document.getElementById(inputId);\n",
              "  inputElement.disabled = false;\n",
              "\n",
              "  const outputElement = document.getElementById(outputId);\n",
              "  outputElement.innerHTML = '';\n",
              "\n",
              "  const pickedPromise = new Promise((resolve) => {\n",
              "    inputElement.addEventListener('change', (e) => {\n",
              "      resolve(e.target.files);\n",
              "    });\n",
              "  });\n",
              "\n",
              "  const cancel = document.createElement('button');\n",
              "  inputElement.parentElement.appendChild(cancel);\n",
              "  cancel.textContent = 'Cancel upload';\n",
              "  const cancelPromise = new Promise((resolve) => {\n",
              "    cancel.onclick = () => {\n",
              "      resolve(null);\n",
              "    };\n",
              "  });\n",
              "\n",
              "  // Wait for the user to pick the files.\n",
              "  const files = yield {\n",
              "    promise: Promise.race([pickedPromise, cancelPromise]),\n",
              "    response: {\n",
              "      action: 'starting',\n",
              "    }\n",
              "  };\n",
              "\n",
              "  cancel.remove();\n",
              "\n",
              "  // Disable the input element since further picks are not allowed.\n",
              "  inputElement.disabled = true;\n",
              "\n",
              "  if (!files) {\n",
              "    return {\n",
              "      response: {\n",
              "        action: 'complete',\n",
              "      }\n",
              "    };\n",
              "  }\n",
              "\n",
              "  for (const file of files) {\n",
              "    const li = document.createElement('li');\n",
              "    li.append(span(file.name, {fontWeight: 'bold'}));\n",
              "    li.append(span(\n",
              "        `(${file.type || 'n/a'}) - ${file.size} bytes, ` +\n",
              "        `last modified: ${\n",
              "            file.lastModifiedDate ? file.lastModifiedDate.toLocaleDateString() :\n",
              "                                    'n/a'} - `));\n",
              "    const percent = span('0% done');\n",
              "    li.appendChild(percent);\n",
              "\n",
              "    outputElement.appendChild(li);\n",
              "\n",
              "    const fileDataPromise = new Promise((resolve) => {\n",
              "      const reader = new FileReader();\n",
              "      reader.onload = (e) => {\n",
              "        resolve(e.target.result);\n",
              "      };\n",
              "      reader.readAsArrayBuffer(file);\n",
              "    });\n",
              "    // Wait for the data to be ready.\n",
              "    let fileData = yield {\n",
              "      promise: fileDataPromise,\n",
              "      response: {\n",
              "        action: 'continue',\n",
              "      }\n",
              "    };\n",
              "\n",
              "    // Use a chunked sending to avoid message size limits. See b/62115660.\n",
              "    let position = 0;\n",
              "    do {\n",
              "      const length = Math.min(fileData.byteLength - position, MAX_PAYLOAD_SIZE);\n",
              "      const chunk = new Uint8Array(fileData, position, length);\n",
              "      position += length;\n",
              "\n",
              "      const base64 = btoa(String.fromCharCode.apply(null, chunk));\n",
              "      yield {\n",
              "        response: {\n",
              "          action: 'append',\n",
              "          file: file.name,\n",
              "          data: base64,\n",
              "        },\n",
              "      };\n",
              "\n",
              "      let percentDone = fileData.byteLength === 0 ?\n",
              "          100 :\n",
              "          Math.round((position / fileData.byteLength) * 100);\n",
              "      percent.textContent = `${percentDone}% done`;\n",
              "\n",
              "    } while (position < fileData.byteLength);\n",
              "  }\n",
              "\n",
              "  // All done.\n",
              "  yield {\n",
              "    response: {\n",
              "      action: 'complete',\n",
              "    }\n",
              "  };\n",
              "}\n",
              "\n",
              "scope.google = scope.google || {};\n",
              "scope.google.colab = scope.google.colab || {};\n",
              "scope.google.colab._files = {\n",
              "  _uploadFiles,\n",
              "  _uploadFilesContinue,\n",
              "};\n",
              "})(self);\n",
              "</script> "
            ]
          },
          "metadata": {}
        },
        {
          "output_type": "stream",
          "name": "stdout",
          "text": [
            "Saving apple_transcript.txt to apple_transcript (1).txt\n"
          ]
        }
      ]
    },
    {
      "cell_type": "code",
      "source": [
        "with open(\"/content/apple_transcript.txt\", \"r\", encoding=\"utf-8\") as f:\n",
        "    transcript = f.read()\n"
      ],
      "metadata": {
        "id": "MMxeGNehXHL6"
      },
      "execution_count": null,
      "outputs": []
    },
    {
      "cell_type": "code",
      "source": [
        "import re\n",
        "sentences = re.split(r'(?<=[.!?])\\s+', transcript)\n",
        "print(f\"Total sentences: {len(sentences)}\")"
      ],
      "metadata": {
        "colab": {
          "base_uri": "https://localhost:8080/"
        },
        "id": "fac5nxMncghR",
        "outputId": "6543b8b3-441c-4693-91bc-a01bd9a08b6b"
      },
      "execution_count": null,
      "outputs": [
        {
          "output_type": "stream",
          "name": "stdout",
          "text": [
            "Total sentences: 515\n"
          ]
        }
      ]
    },
    {
      "cell_type": "code",
      "source": [
        "results = []\n",
        "for i in range(0, len(sentences), 50):  # 50 at a time\n",
        "    chunk = sentences[i:i+50]\n",
        "    chunk_results = finbert(chunk)\n",
        "    results.extend(chunk_results)\n"
      ],
      "metadata": {
        "colab": {
          "base_uri": "https://localhost:8080/"
        },
        "id": "quFGQ-Locmkb",
        "outputId": "71250c0b-f553-4627-a238-3179bbd65742"
      },
      "execution_count": null,
      "outputs": [
        {
          "output_type": "stream",
          "name": "stderr",
          "text": [
            "You seem to be using the pipelines sequentially on GPU. In order to maximize efficiency please use a dataset\n"
          ]
        }
      ]
    },
    {
      "cell_type": "code",
      "source": [
        "annotated = [\n",
        "    {\"sentence\": s, \"sentiment\": r[\"label\"], \"score\": round(r[\"score\"], 3)}\n",
        "    for s, r in zip(sentences, results)\n",
        "]\n"
      ],
      "metadata": {
        "id": "4hPnPLTLdQw2"
      },
      "execution_count": null,
      "outputs": []
    },
    {
      "cell_type": "code",
      "source": [
        "for entry in annotated[:10]:\n",
        "    print(f\"{entry['sentiment'].upper()} ({entry['score']}): {entry['sentence']}\")\n"
      ],
      "metadata": {
        "colab": {
          "base_uri": "https://localhost:8080/"
        },
        "id": "SQmSEi4VdTUS",
        "outputId": "7fa90b1a-2d9d-4a75-ee52-24ca3cc670d1"
      },
      "execution_count": null,
      "outputs": [
        {
          "output_type": "stream",
          "name": "stdout",
          "text": [
            "NEUTRAL (0.901): ﻿Company Participants\n",
            "Tim Cook - CEO\n",
            "Kevan Parekh - CFO\n",
            "Suhasini Chandramouli - Director, IR\n",
            "Conference Call Participants\n",
            "Erik Woodring - Morgan Stanley\n",
            "Ben Reitzes - Melius\n",
            "Michael Ng - Goldman Sachs\n",
            "Amit Daryanani - Evercore\n",
            "Wamsi Mohan - Bank of America\n",
            "David Vogt - UBS\n",
            "Samik Chatterjee - JPMorgan\n",
            "Krish Sankar - TD Cowen\n",
            "Richard Kramer - Arete Research\n",
            "Aaron Rakers - Wells Fargo\n",
            "Suhasini Chandramouli\n",
            "Good afternoon, and welcome to the Apple Q2 Fiscal Year 2025 Earnings Conference Call.\n",
            "NEUTRAL (0.934): My name is Suhasini Chandramouli, Director of Investor Relations.\n",
            "NEUTRAL (0.938): Today's call is being recorded.\n",
            "NEUTRAL (0.933): Speaking first today is Apple's CEO, Tim Cook; and he'll be followed by CFO, Kevan Parekh.\n",
            "NEUTRAL (0.911): After that, we'll open the call to questions from analysts.\n",
            "NEUTRAL (0.94): Please note that some of the information you'll hear during our discussion today will consist of forward-looking statements, including without limitation those regarding revenue, gross margin, operating expenses, other income and expense, taxes, capital allocation and future business outlook, including the potential impact of tariffs and other trade measures and macroeconomic conditions on the company's business and results of operations.\n",
            "NEGATIVE (0.821): These statements involve risks and uncertainties that may cause actual results or trends to differ materially from our forecast.\n",
            "NEUTRAL (0.948): For more information, please refer to the risk factors discussed in Apple's most recently filed reports on Form 10-Q and Form 10-K and the Form 8-K filed with the SEC today, along with the associated press release.\n",
            "NEUTRAL (0.947): Additional information will also be in our report on Form 10-Q for the quarter ended March 29, 2025 to be filed tomorrow and in other reports and filings we make with the SEC.\n",
            "NEUTRAL (0.932): Apple assumes no obligation to update any forward-looking statements, which speak only as of the date they are made.\n"
          ]
        }
      ]
    },
    {
      "cell_type": "code",
      "source": [
        "from collections import Counter\n",
        "sentiment_counts = Counter([x['sentiment'] for x in annotated])\n",
        "print(sentiment_counts)\n"
      ],
      "metadata": {
        "colab": {
          "base_uri": "https://localhost:8080/"
        },
        "id": "Pkq6cAvNdlJi",
        "outputId": "9ce6cffb-8ee1-4a2f-f3d1-4a36acee5866"
      },
      "execution_count": null,
      "outputs": [
        {
          "output_type": "stream",
          "name": "stdout",
          "text": [
            "Counter({'neutral': 372, 'positive': 126, 'negative': 17})\n"
          ]
        }
      ]
    },
    {
      "cell_type": "code",
      "source": [
        "!pip install yfinance --quiet\n",
        "import yfinance as yf\n"
      ],
      "metadata": {
        "id": "E5DNJ5sHeKeC"
      },
      "execution_count": null,
      "outputs": []
    },
    {
      "cell_type": "code",
      "source": [
        "ticker = yf.Ticker(\"AAPL\")\n",
        "\n",
        "hist = ticker.history(start=\"2025-04-20\", end=\"2025-05-10\")  # Few days before and after\n",
        "hist[['Close']]\n"
      ],
      "metadata": {
        "colab": {
          "base_uri": "https://localhost:8080/",
          "height": 551
        },
        "id": "e-5CceR2eOZ_",
        "outputId": "325c3c72-59d0-4d9e-e667-35f4d74f780f"
      },
      "execution_count": null,
      "outputs": [
        {
          "output_type": "execute_result",
          "data": {
            "text/plain": [
              "                                Close\n",
              "Date                                 \n",
              "2025-04-21 00:00:00-04:00  192.907028\n",
              "2025-04-22 00:00:00-04:00  199.478424\n",
              "2025-04-23 00:00:00-04:00  204.332062\n",
              "2025-04-24 00:00:00-04:00  208.097107\n",
              "2025-04-25 00:00:00-04:00  209.005920\n",
              "2025-04-28 00:00:00-04:00  209.864792\n",
              "2025-04-29 00:00:00-04:00  210.933395\n",
              "2025-04-30 00:00:00-04:00  212.221710\n",
              "2025-05-01 00:00:00-04:00  213.040634\n",
              "2025-05-02 00:00:00-04:00  205.081070\n",
              "2025-05-05 00:00:00-04:00  198.629532\n",
              "2025-05-06 00:00:00-04:00  198.250015\n",
              "2025-05-07 00:00:00-04:00  195.992981\n",
              "2025-05-08 00:00:00-04:00  197.231369\n",
              "2025-05-09 00:00:00-04:00  198.270004"
            ],
            "text/html": [
              "\n",
              "  <div id=\"df-d368a325-b5f8-4fdf-aac1-8c5a9f01a3c4\" class=\"colab-df-container\">\n",
              "    <div>\n",
              "<style scoped>\n",
              "    .dataframe tbody tr th:only-of-type {\n",
              "        vertical-align: middle;\n",
              "    }\n",
              "\n",
              "    .dataframe tbody tr th {\n",
              "        vertical-align: top;\n",
              "    }\n",
              "\n",
              "    .dataframe thead th {\n",
              "        text-align: right;\n",
              "    }\n",
              "</style>\n",
              "<table border=\"1\" class=\"dataframe\">\n",
              "  <thead>\n",
              "    <tr style=\"text-align: right;\">\n",
              "      <th></th>\n",
              "      <th>Close</th>\n",
              "    </tr>\n",
              "    <tr>\n",
              "      <th>Date</th>\n",
              "      <th></th>\n",
              "    </tr>\n",
              "  </thead>\n",
              "  <tbody>\n",
              "    <tr>\n",
              "      <th>2025-04-21 00:00:00-04:00</th>\n",
              "      <td>192.907028</td>\n",
              "    </tr>\n",
              "    <tr>\n",
              "      <th>2025-04-22 00:00:00-04:00</th>\n",
              "      <td>199.478424</td>\n",
              "    </tr>\n",
              "    <tr>\n",
              "      <th>2025-04-23 00:00:00-04:00</th>\n",
              "      <td>204.332062</td>\n",
              "    </tr>\n",
              "    <tr>\n",
              "      <th>2025-04-24 00:00:00-04:00</th>\n",
              "      <td>208.097107</td>\n",
              "    </tr>\n",
              "    <tr>\n",
              "      <th>2025-04-25 00:00:00-04:00</th>\n",
              "      <td>209.005920</td>\n",
              "    </tr>\n",
              "    <tr>\n",
              "      <th>2025-04-28 00:00:00-04:00</th>\n",
              "      <td>209.864792</td>\n",
              "    </tr>\n",
              "    <tr>\n",
              "      <th>2025-04-29 00:00:00-04:00</th>\n",
              "      <td>210.933395</td>\n",
              "    </tr>\n",
              "    <tr>\n",
              "      <th>2025-04-30 00:00:00-04:00</th>\n",
              "      <td>212.221710</td>\n",
              "    </tr>\n",
              "    <tr>\n",
              "      <th>2025-05-01 00:00:00-04:00</th>\n",
              "      <td>213.040634</td>\n",
              "    </tr>\n",
              "    <tr>\n",
              "      <th>2025-05-02 00:00:00-04:00</th>\n",
              "      <td>205.081070</td>\n",
              "    </tr>\n",
              "    <tr>\n",
              "      <th>2025-05-05 00:00:00-04:00</th>\n",
              "      <td>198.629532</td>\n",
              "    </tr>\n",
              "    <tr>\n",
              "      <th>2025-05-06 00:00:00-04:00</th>\n",
              "      <td>198.250015</td>\n",
              "    </tr>\n",
              "    <tr>\n",
              "      <th>2025-05-07 00:00:00-04:00</th>\n",
              "      <td>195.992981</td>\n",
              "    </tr>\n",
              "    <tr>\n",
              "      <th>2025-05-08 00:00:00-04:00</th>\n",
              "      <td>197.231369</td>\n",
              "    </tr>\n",
              "    <tr>\n",
              "      <th>2025-05-09 00:00:00-04:00</th>\n",
              "      <td>198.270004</td>\n",
              "    </tr>\n",
              "  </tbody>\n",
              "</table>\n",
              "</div>\n",
              "    <div class=\"colab-df-buttons\">\n",
              "\n",
              "  <div class=\"colab-df-container\">\n",
              "    <button class=\"colab-df-convert\" onclick=\"convertToInteractive('df-d368a325-b5f8-4fdf-aac1-8c5a9f01a3c4')\"\n",
              "            title=\"Convert this dataframe to an interactive table.\"\n",
              "            style=\"display:none;\">\n",
              "\n",
              "  <svg xmlns=\"http://www.w3.org/2000/svg\" height=\"24px\" viewBox=\"0 -960 960 960\">\n",
              "    <path d=\"M120-120v-720h720v720H120Zm60-500h600v-160H180v160Zm220 220h160v-160H400v160Zm0 220h160v-160H400v160ZM180-400h160v-160H180v160Zm440 0h160v-160H620v160ZM180-180h160v-160H180v160Zm440 0h160v-160H620v160Z\"/>\n",
              "  </svg>\n",
              "    </button>\n",
              "\n",
              "  <style>\n",
              "    .colab-df-container {\n",
              "      display:flex;\n",
              "      gap: 12px;\n",
              "    }\n",
              "\n",
              "    .colab-df-convert {\n",
              "      background-color: #E8F0FE;\n",
              "      border: none;\n",
              "      border-radius: 50%;\n",
              "      cursor: pointer;\n",
              "      display: none;\n",
              "      fill: #1967D2;\n",
              "      height: 32px;\n",
              "      padding: 0 0 0 0;\n",
              "      width: 32px;\n",
              "    }\n",
              "\n",
              "    .colab-df-convert:hover {\n",
              "      background-color: #E2EBFA;\n",
              "      box-shadow: 0px 1px 2px rgba(60, 64, 67, 0.3), 0px 1px 3px 1px rgba(60, 64, 67, 0.15);\n",
              "      fill: #174EA6;\n",
              "    }\n",
              "\n",
              "    .colab-df-buttons div {\n",
              "      margin-bottom: 4px;\n",
              "    }\n",
              "\n",
              "    [theme=dark] .colab-df-convert {\n",
              "      background-color: #3B4455;\n",
              "      fill: #D2E3FC;\n",
              "    }\n",
              "\n",
              "    [theme=dark] .colab-df-convert:hover {\n",
              "      background-color: #434B5C;\n",
              "      box-shadow: 0px 1px 3px 1px rgba(0, 0, 0, 0.15);\n",
              "      filter: drop-shadow(0px 1px 2px rgba(0, 0, 0, 0.3));\n",
              "      fill: #FFFFFF;\n",
              "    }\n",
              "  </style>\n",
              "\n",
              "    <script>\n",
              "      const buttonEl =\n",
              "        document.querySelector('#df-d368a325-b5f8-4fdf-aac1-8c5a9f01a3c4 button.colab-df-convert');\n",
              "      buttonEl.style.display =\n",
              "        google.colab.kernel.accessAllowed ? 'block' : 'none';\n",
              "\n",
              "      async function convertToInteractive(key) {\n",
              "        const element = document.querySelector('#df-d368a325-b5f8-4fdf-aac1-8c5a9f01a3c4');\n",
              "        const dataTable =\n",
              "          await google.colab.kernel.invokeFunction('convertToInteractive',\n",
              "                                                    [key], {});\n",
              "        if (!dataTable) return;\n",
              "\n",
              "        const docLinkHtml = 'Like what you see? Visit the ' +\n",
              "          '<a target=\"_blank\" href=https://colab.research.google.com/notebooks/data_table.ipynb>data table notebook</a>'\n",
              "          + ' to learn more about interactive tables.';\n",
              "        element.innerHTML = '';\n",
              "        dataTable['output_type'] = 'display_data';\n",
              "        await google.colab.output.renderOutput(dataTable, element);\n",
              "        const docLink = document.createElement('div');\n",
              "        docLink.innerHTML = docLinkHtml;\n",
              "        element.appendChild(docLink);\n",
              "      }\n",
              "    </script>\n",
              "  </div>\n",
              "\n",
              "\n",
              "    <div id=\"df-df228c12-d9a4-4c75-be5d-519f0b602b7d\">\n",
              "      <button class=\"colab-df-quickchart\" onclick=\"quickchart('df-df228c12-d9a4-4c75-be5d-519f0b602b7d')\"\n",
              "                title=\"Suggest charts\"\n",
              "                style=\"display:none;\">\n",
              "\n",
              "<svg xmlns=\"http://www.w3.org/2000/svg\" height=\"24px\"viewBox=\"0 0 24 24\"\n",
              "     width=\"24px\">\n",
              "    <g>\n",
              "        <path d=\"M19 3H5c-1.1 0-2 .9-2 2v14c0 1.1.9 2 2 2h14c1.1 0 2-.9 2-2V5c0-1.1-.9-2-2-2zM9 17H7v-7h2v7zm4 0h-2V7h2v10zm4 0h-2v-4h2v4z\"/>\n",
              "    </g>\n",
              "</svg>\n",
              "      </button>\n",
              "\n",
              "<style>\n",
              "  .colab-df-quickchart {\n",
              "      --bg-color: #E8F0FE;\n",
              "      --fill-color: #1967D2;\n",
              "      --hover-bg-color: #E2EBFA;\n",
              "      --hover-fill-color: #174EA6;\n",
              "      --disabled-fill-color: #AAA;\n",
              "      --disabled-bg-color: #DDD;\n",
              "  }\n",
              "\n",
              "  [theme=dark] .colab-df-quickchart {\n",
              "      --bg-color: #3B4455;\n",
              "      --fill-color: #D2E3FC;\n",
              "      --hover-bg-color: #434B5C;\n",
              "      --hover-fill-color: #FFFFFF;\n",
              "      --disabled-bg-color: #3B4455;\n",
              "      --disabled-fill-color: #666;\n",
              "  }\n",
              "\n",
              "  .colab-df-quickchart {\n",
              "    background-color: var(--bg-color);\n",
              "    border: none;\n",
              "    border-radius: 50%;\n",
              "    cursor: pointer;\n",
              "    display: none;\n",
              "    fill: var(--fill-color);\n",
              "    height: 32px;\n",
              "    padding: 0;\n",
              "    width: 32px;\n",
              "  }\n",
              "\n",
              "  .colab-df-quickchart:hover {\n",
              "    background-color: var(--hover-bg-color);\n",
              "    box-shadow: 0 1px 2px rgba(60, 64, 67, 0.3), 0 1px 3px 1px rgba(60, 64, 67, 0.15);\n",
              "    fill: var(--button-hover-fill-color);\n",
              "  }\n",
              "\n",
              "  .colab-df-quickchart-complete:disabled,\n",
              "  .colab-df-quickchart-complete:disabled:hover {\n",
              "    background-color: var(--disabled-bg-color);\n",
              "    fill: var(--disabled-fill-color);\n",
              "    box-shadow: none;\n",
              "  }\n",
              "\n",
              "  .colab-df-spinner {\n",
              "    border: 2px solid var(--fill-color);\n",
              "    border-color: transparent;\n",
              "    border-bottom-color: var(--fill-color);\n",
              "    animation:\n",
              "      spin 1s steps(1) infinite;\n",
              "  }\n",
              "\n",
              "  @keyframes spin {\n",
              "    0% {\n",
              "      border-color: transparent;\n",
              "      border-bottom-color: var(--fill-color);\n",
              "      border-left-color: var(--fill-color);\n",
              "    }\n",
              "    20% {\n",
              "      border-color: transparent;\n",
              "      border-left-color: var(--fill-color);\n",
              "      border-top-color: var(--fill-color);\n",
              "    }\n",
              "    30% {\n",
              "      border-color: transparent;\n",
              "      border-left-color: var(--fill-color);\n",
              "      border-top-color: var(--fill-color);\n",
              "      border-right-color: var(--fill-color);\n",
              "    }\n",
              "    40% {\n",
              "      border-color: transparent;\n",
              "      border-right-color: var(--fill-color);\n",
              "      border-top-color: var(--fill-color);\n",
              "    }\n",
              "    60% {\n",
              "      border-color: transparent;\n",
              "      border-right-color: var(--fill-color);\n",
              "    }\n",
              "    80% {\n",
              "      border-color: transparent;\n",
              "      border-right-color: var(--fill-color);\n",
              "      border-bottom-color: var(--fill-color);\n",
              "    }\n",
              "    90% {\n",
              "      border-color: transparent;\n",
              "      border-bottom-color: var(--fill-color);\n",
              "    }\n",
              "  }\n",
              "</style>\n",
              "\n",
              "      <script>\n",
              "        async function quickchart(key) {\n",
              "          const quickchartButtonEl =\n",
              "            document.querySelector('#' + key + ' button');\n",
              "          quickchartButtonEl.disabled = true;  // To prevent multiple clicks.\n",
              "          quickchartButtonEl.classList.add('colab-df-spinner');\n",
              "          try {\n",
              "            const charts = await google.colab.kernel.invokeFunction(\n",
              "                'suggestCharts', [key], {});\n",
              "          } catch (error) {\n",
              "            console.error('Error during call to suggestCharts:', error);\n",
              "          }\n",
              "          quickchartButtonEl.classList.remove('colab-df-spinner');\n",
              "          quickchartButtonEl.classList.add('colab-df-quickchart-complete');\n",
              "        }\n",
              "        (() => {\n",
              "          let quickchartButtonEl =\n",
              "            document.querySelector('#df-df228c12-d9a4-4c75-be5d-519f0b602b7d button');\n",
              "          quickchartButtonEl.style.display =\n",
              "            google.colab.kernel.accessAllowed ? 'block' : 'none';\n",
              "        })();\n",
              "      </script>\n",
              "    </div>\n",
              "\n",
              "    </div>\n",
              "  </div>\n"
            ],
            "application/vnd.google.colaboratory.intrinsic+json": {
              "type": "dataframe",
              "summary": "{\n  \"name\": \"hist[['Close']]\",\n  \"rows\": 15,\n  \"fields\": [\n    {\n      \"column\": \"Date\",\n      \"properties\": {\n        \"dtype\": \"date\",\n        \"min\": \"2025-04-21 00:00:00-04:00\",\n        \"max\": \"2025-05-09 00:00:00-04:00\",\n        \"num_unique_values\": 15,\n        \"samples\": [\n          \"2025-05-02 00:00:00-04:00\",\n          \"2025-05-06 00:00:00-04:00\",\n          \"2025-04-21 00:00:00-04:00\"\n        ],\n        \"semantic_type\": \"\",\n        \"description\": \"\"\n      }\n    },\n    {\n      \"column\": \"Close\",\n      \"properties\": {\n        \"dtype\": \"number\",\n        \"std\": 6.655415533842193,\n        \"min\": 192.9070281982422,\n        \"max\": 213.04063415527344,\n        \"num_unique_values\": 15,\n        \"samples\": [\n          205.08106994628906,\n          198.25001525878906,\n          192.9070281982422\n        ],\n        \"semantic_type\": \"\",\n        \"description\": \"\"\n      }\n    }\n  ]\n}"
            }
          },
          "metadata": {},
          "execution_count": 12
        }
      ]
    },
    {
      "cell_type": "code",
      "source": [
        "before_price = hist.loc[\"2025-04-30\"][\"Close\"]\n",
        "after_1d = hist.loc[\"2025-05-02\"][\"Close\"]\n",
        "after_3d = hist.loc[\"2025-05-05\"][\"Close\"]\n",
        "\n",
        "change_1d = round(((after_1d - before_price) / before_price) * 100, 2)\n",
        "change_3d = round(((after_3d - before_price) / before_price) * 100, 2)\n",
        "\n",
        "print(f\"1-day change: {change_1d}%\")\n",
        "print(f\"3-day change: {change_3d}%\")\n"
      ],
      "metadata": {
        "colab": {
          "base_uri": "https://localhost:8080/"
        },
        "id": "72x4dXCNetEt",
        "outputId": "809dd3ef-56ca-4b9c-de1f-d42ae1ea8a2d"
      },
      "execution_count": null,
      "outputs": [
        {
          "output_type": "stream",
          "name": "stdout",
          "text": [
            "1-day change: -3.36%\n",
            "3-day change: -6.4%\n"
          ]
        }
      ]
    },
    {
      "cell_type": "code",
      "source": [
        "!pip install GoogleNews\n",
        "from GoogleNews import GoogleNews\n",
        "\n",
        "gn = GoogleNews(lang='en')\n",
        "gn.set_time_range('04/28/2025', '05/04/2025')  # T–3 to T+3\n",
        "gn.search('Apple earnings')\n",
        "results = gn.results()\n",
        "headlines = [res['title'] for res in results]\n",
        "print(headlines[:5])\n"
      ],
      "metadata": {
        "colab": {
          "base_uri": "https://localhost:8080/"
        },
        "id": "n3b_DRkz8W-c",
        "outputId": "851e7a0d-e657-43f5-ff13-6add87c55c4d"
      },
      "execution_count": null,
      "outputs": [
        {
          "output_type": "stream",
          "name": "stdout",
          "text": [
            "Requirement already satisfied: GoogleNews in /usr/local/lib/python3.11/dist-packages (1.6.15)\n",
            "Requirement already satisfied: beautifulsoup4 in /usr/local/lib/python3.11/dist-packages (from GoogleNews) (4.13.4)\n",
            "Requirement already satisfied: dateparser in /usr/local/lib/python3.11/dist-packages (from GoogleNews) (1.2.2)\n",
            "Requirement already satisfied: python-dateutil in /usr/local/lib/python3.11/dist-packages (from GoogleNews) (2.9.0.post0)\n",
            "Requirement already satisfied: soupsieve>1.2 in /usr/local/lib/python3.11/dist-packages (from beautifulsoup4->GoogleNews) (2.7)\n",
            "Requirement already satisfied: typing-extensions>=4.0.0 in /usr/local/lib/python3.11/dist-packages (from beautifulsoup4->GoogleNews) (4.14.0)\n",
            "Requirement already satisfied: pytz>=2024.2 in /usr/local/lib/python3.11/dist-packages (from dateparser->GoogleNews) (2025.2)\n",
            "Requirement already satisfied: regex>=2024.9.11 in /usr/local/lib/python3.11/dist-packages (from dateparser->GoogleNews) (2024.11.6)\n",
            "Requirement already satisfied: tzlocal>=0.2 in /usr/local/lib/python3.11/dist-packages (from dateparser->GoogleNews) (5.3.1)\n",
            "Requirement already satisfied: six>=1.5 in /usr/local/lib/python3.11/dist-packages (from python-dateutil->GoogleNews) (1.17.0)\n",
            "['Fortress Financial Group LLC Acquires 68 Shares of Apple Inc. (NASDAQ:AAPL)', 'Tealwood Asset Management Inc. Decreases Stock Holdings in Apple Inc. (NASDAQ:AAPL)', 'First Affirmative Financial Network Has $5.83 Million Stake in Apple Inc. (NASDAQ:AAPL)', 'Apple Inc. (NASDAQ:AAPL) Shares Sold by Butensky & Cohen Financial Security Inc.', 'Pines Wealth Management LLC Sells 792 Shares of Apple Inc. (NASDAQ:AAPL)']\n"
          ]
        }
      ]
    },
    {
      "cell_type": "code",
      "source": [
        "news_sentiment = finbert(headlines)\n",
        "for headline, result in zip(headlines, news_sentiment):\n",
        "    print(f\"{result['label'].upper()} ({round(result['score'], 2)}): {headline}\")\n"
      ],
      "metadata": {
        "colab": {
          "base_uri": "https://localhost:8080/"
        },
        "id": "EFy0fmlK8ljC",
        "outputId": "268eb4a9-e038-4382-c7b7-225f5970dd5b"
      },
      "execution_count": null,
      "outputs": [
        {
          "output_type": "stream",
          "name": "stdout",
          "text": [
            "NEUTRAL (0.91): Fortress Financial Group LLC Acquires 68 Shares of Apple Inc. (NASDAQ:AAPL)\n",
            "NEGATIVE (0.7): Tealwood Asset Management Inc. Decreases Stock Holdings in Apple Inc. (NASDAQ:AAPL)\n",
            "NEUTRAL (0.95): First Affirmative Financial Network Has $5.83 Million Stake in Apple Inc. (NASDAQ:AAPL)\n",
            "NEUTRAL (0.94): Apple Inc. (NASDAQ:AAPL) Shares Sold by Butensky & Cohen Financial Security Inc.\n",
            "NEUTRAL (0.94): Pines Wealth Management LLC Sells 792 Shares of Apple Inc. (NASDAQ:AAPL)\n",
            "NEUTRAL (0.93): Apple Inc. (NASDAQ:AAPL) Shares Acquired by Impact Capital Partners LLC\n",
            "NEUTRAL (0.95): Sara Bay Financial Has $4.33 Million Stake in Apple Inc. (NASDAQ:AAPL)\n",
            "NEUTRAL (0.9): Apple Inc. (NASDAQ:AAPL) Position Lowered by Ridgeline Wealth LLC\n",
            "NEGATIVE (0.9): Evexia Wealth LLC Lowers Position in Apple Inc. (NASDAQ:AAPL)\n",
            "POSITIVE (0.83): Disciplined Investments LLC Increases Position in Apple Inc. (NASDAQ:AAPL)\n"
          ]
        }
      ]
    },
    {
      "cell_type": "code",
      "source": [
        "from collections import Counter\n",
        "\n",
        "news_labels = [res['label'] for res in news_sentiment]\n",
        "news_summary = Counter(news_labels)\n",
        "\n",
        "print(\"📰 News Sentiment Summary:\", news_summary)\n"
      ],
      "metadata": {
        "colab": {
          "base_uri": "https://localhost:8080/"
        },
        "id": "szDl4TTZ9YHZ",
        "outputId": "3292ae17-f85f-4718-9b60-d4ccec2c5e81"
      },
      "execution_count": null,
      "outputs": [
        {
          "output_type": "stream",
          "name": "stdout",
          "text": [
            "📰 News Sentiment Summary: Counter({'neutral': 7, 'negative': 2, 'positive': 1})\n"
          ]
        }
      ]
    },
    {
      "cell_type": "code",
      "source": [
        "call_summary = {\n",
        "    'neutral': 372,\n",
        "    'positive': 126,\n",
        "    'negative': 17\n",
        "}\n",
        "print(\"📞 Earnings Call Tone:\", call_summary)\n",
        "print(\"📰 News Tone:\", news_summary)\n"
      ],
      "metadata": {
        "colab": {
          "base_uri": "https://localhost:8080/"
        },
        "id": "AfVDHkeV9nGC",
        "outputId": "6a788aa3-2f49-4b03-acb2-349cdb837cfb"
      },
      "execution_count": null,
      "outputs": [
        {
          "output_type": "stream",
          "name": "stdout",
          "text": [
            "📞 Earnings Call Tone: {'neutral': 372, 'positive': 126, 'negative': 17}\n",
            "📰 News Tone: Counter({'neutral': 7, 'negative': 2, 'positive': 1})\n"
          ]
        }
      ]
    },
    {
      "cell_type": "code",
      "source": [
        "def interpret_tone(news, call):\n",
        "    if news['negative'] > call['negative']:\n",
        "        return \"News tone is more negative than the call — may explain stock drop.\"\n",
        "    elif news['positive'] > call['positive']:\n",
        "        return \"News was more positive than even the call — may have reinforced stock gains.\"\n",
        "    else:\n",
        "        return \"News tone aligns closely with call — no surprise shift.\"\n",
        "\n",
        "print(\"🧠 Interpretation:\", interpret_tone(news_summary, call_summary))\n"
      ],
      "metadata": {
        "colab": {
          "base_uri": "https://localhost:8080/"
        },
        "id": "HfHhYFPk95VH",
        "outputId": "500d6052-3afd-47c2-bd25-462d3b7322eb"
      },
      "execution_count": null,
      "outputs": [
        {
          "output_type": "stream",
          "name": "stdout",
          "text": [
            "🧠 Interpretation: News tone aligns closely with call — no surprise shift.\n"
          ]
        }
      ]
    },
    {
      "cell_type": "code",
      "source": [
        "!pip install numpy==1.26.4 --quiet\n",
        "\n"
      ],
      "metadata": {
        "id": "ntuZk94n-TWx"
      },
      "execution_count": null,
      "outputs": []
    },
    {
      "cell_type": "code",
      "source": [
        "import numpy as np\n",
        "np.NaN = np.nan\n",
        "\n",
        "import pandas as pd\n",
        "import yfinance as yf\n",
        "import pandas_ta as ta\n"
      ],
      "metadata": {
        "id": "CpmfMPcq-Fsk"
      },
      "execution_count": null,
      "outputs": []
    },
    {
      "cell_type": "code",
      "source": [
        "import yfinance as yf\n",
        "import pandas as pd\n",
        "\n",
        "# Load data around earnings call (May 1, 2025)\n",
        "ticker = yf.Ticker(\"AAPL\")\n",
        "data = ticker.history(start=\"2025-04-01\", end=\"2025-05-10\")\n",
        "data.reset_index(inplace=True)\n",
        "data.head()\n"
      ],
      "metadata": {
        "colab": {
          "base_uri": "https://localhost:8080/",
          "height": 206
        },
        "id": "itlxfsQm_eD3",
        "outputId": "233e76b8-3160-4de2-c495-af9373e8f32b"
      },
      "execution_count": null,
      "outputs": [
        {
          "output_type": "execute_result",
          "data": {
            "text/plain": [
              "                       Date        Open        High         Low       Close  \\\n",
              "0 2025-04-01 00:00:00-04:00  219.522127  223.387054  218.613315  222.897705   \n",
              "1 2025-04-02 00:00:00-04:00  221.030160  224.895087  220.730550  223.596786   \n",
              "2 2025-04-03 00:00:00-04:00  205.270818  207.218276  200.986443  202.923904   \n",
              "3 2025-04-04 00:00:00-04:00  193.636079  199.618240  187.094654  188.133301   \n",
              "4 2025-04-07 00:00:00-04:00  176.967935  193.895735  174.391312  181.222366   \n",
              "\n",
              "      Volume  Dividends  Stock Splits  \n",
              "0   36412700        0.0           0.0  \n",
              "1   35905900        0.0           0.0  \n",
              "2  103419000        0.0           0.0  \n",
              "3  125910900        0.0           0.0  \n",
              "4  160466300        0.0           0.0  "
            ],
            "text/html": [
              "\n",
              "  <div id=\"df-57cda66c-2fbd-4067-8d20-a487f801e9a5\" class=\"colab-df-container\">\n",
              "    <div>\n",
              "<style scoped>\n",
              "    .dataframe tbody tr th:only-of-type {\n",
              "        vertical-align: middle;\n",
              "    }\n",
              "\n",
              "    .dataframe tbody tr th {\n",
              "        vertical-align: top;\n",
              "    }\n",
              "\n",
              "    .dataframe thead th {\n",
              "        text-align: right;\n",
              "    }\n",
              "</style>\n",
              "<table border=\"1\" class=\"dataframe\">\n",
              "  <thead>\n",
              "    <tr style=\"text-align: right;\">\n",
              "      <th></th>\n",
              "      <th>Date</th>\n",
              "      <th>Open</th>\n",
              "      <th>High</th>\n",
              "      <th>Low</th>\n",
              "      <th>Close</th>\n",
              "      <th>Volume</th>\n",
              "      <th>Dividends</th>\n",
              "      <th>Stock Splits</th>\n",
              "    </tr>\n",
              "  </thead>\n",
              "  <tbody>\n",
              "    <tr>\n",
              "      <th>0</th>\n",
              "      <td>2025-04-01 00:00:00-04:00</td>\n",
              "      <td>219.522127</td>\n",
              "      <td>223.387054</td>\n",
              "      <td>218.613315</td>\n",
              "      <td>222.897705</td>\n",
              "      <td>36412700</td>\n",
              "      <td>0.0</td>\n",
              "      <td>0.0</td>\n",
              "    </tr>\n",
              "    <tr>\n",
              "      <th>1</th>\n",
              "      <td>2025-04-02 00:00:00-04:00</td>\n",
              "      <td>221.030160</td>\n",
              "      <td>224.895087</td>\n",
              "      <td>220.730550</td>\n",
              "      <td>223.596786</td>\n",
              "      <td>35905900</td>\n",
              "      <td>0.0</td>\n",
              "      <td>0.0</td>\n",
              "    </tr>\n",
              "    <tr>\n",
              "      <th>2</th>\n",
              "      <td>2025-04-03 00:00:00-04:00</td>\n",
              "      <td>205.270818</td>\n",
              "      <td>207.218276</td>\n",
              "      <td>200.986443</td>\n",
              "      <td>202.923904</td>\n",
              "      <td>103419000</td>\n",
              "      <td>0.0</td>\n",
              "      <td>0.0</td>\n",
              "    </tr>\n",
              "    <tr>\n",
              "      <th>3</th>\n",
              "      <td>2025-04-04 00:00:00-04:00</td>\n",
              "      <td>193.636079</td>\n",
              "      <td>199.618240</td>\n",
              "      <td>187.094654</td>\n",
              "      <td>188.133301</td>\n",
              "      <td>125910900</td>\n",
              "      <td>0.0</td>\n",
              "      <td>0.0</td>\n",
              "    </tr>\n",
              "    <tr>\n",
              "      <th>4</th>\n",
              "      <td>2025-04-07 00:00:00-04:00</td>\n",
              "      <td>176.967935</td>\n",
              "      <td>193.895735</td>\n",
              "      <td>174.391312</td>\n",
              "      <td>181.222366</td>\n",
              "      <td>160466300</td>\n",
              "      <td>0.0</td>\n",
              "      <td>0.0</td>\n",
              "    </tr>\n",
              "  </tbody>\n",
              "</table>\n",
              "</div>\n",
              "    <div class=\"colab-df-buttons\">\n",
              "\n",
              "  <div class=\"colab-df-container\">\n",
              "    <button class=\"colab-df-convert\" onclick=\"convertToInteractive('df-57cda66c-2fbd-4067-8d20-a487f801e9a5')\"\n",
              "            title=\"Convert this dataframe to an interactive table.\"\n",
              "            style=\"display:none;\">\n",
              "\n",
              "  <svg xmlns=\"http://www.w3.org/2000/svg\" height=\"24px\" viewBox=\"0 -960 960 960\">\n",
              "    <path d=\"M120-120v-720h720v720H120Zm60-500h600v-160H180v160Zm220 220h160v-160H400v160Zm0 220h160v-160H400v160ZM180-400h160v-160H180v160Zm440 0h160v-160H620v160ZM180-180h160v-160H180v160Zm440 0h160v-160H620v160Z\"/>\n",
              "  </svg>\n",
              "    </button>\n",
              "\n",
              "  <style>\n",
              "    .colab-df-container {\n",
              "      display:flex;\n",
              "      gap: 12px;\n",
              "    }\n",
              "\n",
              "    .colab-df-convert {\n",
              "      background-color: #E8F0FE;\n",
              "      border: none;\n",
              "      border-radius: 50%;\n",
              "      cursor: pointer;\n",
              "      display: none;\n",
              "      fill: #1967D2;\n",
              "      height: 32px;\n",
              "      padding: 0 0 0 0;\n",
              "      width: 32px;\n",
              "    }\n",
              "\n",
              "    .colab-df-convert:hover {\n",
              "      background-color: #E2EBFA;\n",
              "      box-shadow: 0px 1px 2px rgba(60, 64, 67, 0.3), 0px 1px 3px 1px rgba(60, 64, 67, 0.15);\n",
              "      fill: #174EA6;\n",
              "    }\n",
              "\n",
              "    .colab-df-buttons div {\n",
              "      margin-bottom: 4px;\n",
              "    }\n",
              "\n",
              "    [theme=dark] .colab-df-convert {\n",
              "      background-color: #3B4455;\n",
              "      fill: #D2E3FC;\n",
              "    }\n",
              "\n",
              "    [theme=dark] .colab-df-convert:hover {\n",
              "      background-color: #434B5C;\n",
              "      box-shadow: 0px 1px 3px 1px rgba(0, 0, 0, 0.15);\n",
              "      filter: drop-shadow(0px 1px 2px rgba(0, 0, 0, 0.3));\n",
              "      fill: #FFFFFF;\n",
              "    }\n",
              "  </style>\n",
              "\n",
              "    <script>\n",
              "      const buttonEl =\n",
              "        document.querySelector('#df-57cda66c-2fbd-4067-8d20-a487f801e9a5 button.colab-df-convert');\n",
              "      buttonEl.style.display =\n",
              "        google.colab.kernel.accessAllowed ? 'block' : 'none';\n",
              "\n",
              "      async function convertToInteractive(key) {\n",
              "        const element = document.querySelector('#df-57cda66c-2fbd-4067-8d20-a487f801e9a5');\n",
              "        const dataTable =\n",
              "          await google.colab.kernel.invokeFunction('convertToInteractive',\n",
              "                                                    [key], {});\n",
              "        if (!dataTable) return;\n",
              "\n",
              "        const docLinkHtml = 'Like what you see? Visit the ' +\n",
              "          '<a target=\"_blank\" href=https://colab.research.google.com/notebooks/data_table.ipynb>data table notebook</a>'\n",
              "          + ' to learn more about interactive tables.';\n",
              "        element.innerHTML = '';\n",
              "        dataTable['output_type'] = 'display_data';\n",
              "        await google.colab.output.renderOutput(dataTable, element);\n",
              "        const docLink = document.createElement('div');\n",
              "        docLink.innerHTML = docLinkHtml;\n",
              "        element.appendChild(docLink);\n",
              "      }\n",
              "    </script>\n",
              "  </div>\n",
              "\n",
              "\n",
              "    <div id=\"df-2eb932cc-0468-4779-af2d-94a412c326a1\">\n",
              "      <button class=\"colab-df-quickchart\" onclick=\"quickchart('df-2eb932cc-0468-4779-af2d-94a412c326a1')\"\n",
              "                title=\"Suggest charts\"\n",
              "                style=\"display:none;\">\n",
              "\n",
              "<svg xmlns=\"http://www.w3.org/2000/svg\" height=\"24px\"viewBox=\"0 0 24 24\"\n",
              "     width=\"24px\">\n",
              "    <g>\n",
              "        <path d=\"M19 3H5c-1.1 0-2 .9-2 2v14c0 1.1.9 2 2 2h14c1.1 0 2-.9 2-2V5c0-1.1-.9-2-2-2zM9 17H7v-7h2v7zm4 0h-2V7h2v10zm4 0h-2v-4h2v4z\"/>\n",
              "    </g>\n",
              "</svg>\n",
              "      </button>\n",
              "\n",
              "<style>\n",
              "  .colab-df-quickchart {\n",
              "      --bg-color: #E8F0FE;\n",
              "      --fill-color: #1967D2;\n",
              "      --hover-bg-color: #E2EBFA;\n",
              "      --hover-fill-color: #174EA6;\n",
              "      --disabled-fill-color: #AAA;\n",
              "      --disabled-bg-color: #DDD;\n",
              "  }\n",
              "\n",
              "  [theme=dark] .colab-df-quickchart {\n",
              "      --bg-color: #3B4455;\n",
              "      --fill-color: #D2E3FC;\n",
              "      --hover-bg-color: #434B5C;\n",
              "      --hover-fill-color: #FFFFFF;\n",
              "      --disabled-bg-color: #3B4455;\n",
              "      --disabled-fill-color: #666;\n",
              "  }\n",
              "\n",
              "  .colab-df-quickchart {\n",
              "    background-color: var(--bg-color);\n",
              "    border: none;\n",
              "    border-radius: 50%;\n",
              "    cursor: pointer;\n",
              "    display: none;\n",
              "    fill: var(--fill-color);\n",
              "    height: 32px;\n",
              "    padding: 0;\n",
              "    width: 32px;\n",
              "  }\n",
              "\n",
              "  .colab-df-quickchart:hover {\n",
              "    background-color: var(--hover-bg-color);\n",
              "    box-shadow: 0 1px 2px rgba(60, 64, 67, 0.3), 0 1px 3px 1px rgba(60, 64, 67, 0.15);\n",
              "    fill: var(--button-hover-fill-color);\n",
              "  }\n",
              "\n",
              "  .colab-df-quickchart-complete:disabled,\n",
              "  .colab-df-quickchart-complete:disabled:hover {\n",
              "    background-color: var(--disabled-bg-color);\n",
              "    fill: var(--disabled-fill-color);\n",
              "    box-shadow: none;\n",
              "  }\n",
              "\n",
              "  .colab-df-spinner {\n",
              "    border: 2px solid var(--fill-color);\n",
              "    border-color: transparent;\n",
              "    border-bottom-color: var(--fill-color);\n",
              "    animation:\n",
              "      spin 1s steps(1) infinite;\n",
              "  }\n",
              "\n",
              "  @keyframes spin {\n",
              "    0% {\n",
              "      border-color: transparent;\n",
              "      border-bottom-color: var(--fill-color);\n",
              "      border-left-color: var(--fill-color);\n",
              "    }\n",
              "    20% {\n",
              "      border-color: transparent;\n",
              "      border-left-color: var(--fill-color);\n",
              "      border-top-color: var(--fill-color);\n",
              "    }\n",
              "    30% {\n",
              "      border-color: transparent;\n",
              "      border-left-color: var(--fill-color);\n",
              "      border-top-color: var(--fill-color);\n",
              "      border-right-color: var(--fill-color);\n",
              "    }\n",
              "    40% {\n",
              "      border-color: transparent;\n",
              "      border-right-color: var(--fill-color);\n",
              "      border-top-color: var(--fill-color);\n",
              "    }\n",
              "    60% {\n",
              "      border-color: transparent;\n",
              "      border-right-color: var(--fill-color);\n",
              "    }\n",
              "    80% {\n",
              "      border-color: transparent;\n",
              "      border-right-color: var(--fill-color);\n",
              "      border-bottom-color: var(--fill-color);\n",
              "    }\n",
              "    90% {\n",
              "      border-color: transparent;\n",
              "      border-bottom-color: var(--fill-color);\n",
              "    }\n",
              "  }\n",
              "</style>\n",
              "\n",
              "      <script>\n",
              "        async function quickchart(key) {\n",
              "          const quickchartButtonEl =\n",
              "            document.querySelector('#' + key + ' button');\n",
              "          quickchartButtonEl.disabled = true;  // To prevent multiple clicks.\n",
              "          quickchartButtonEl.classList.add('colab-df-spinner');\n",
              "          try {\n",
              "            const charts = await google.colab.kernel.invokeFunction(\n",
              "                'suggestCharts', [key], {});\n",
              "          } catch (error) {\n",
              "            console.error('Error during call to suggestCharts:', error);\n",
              "          }\n",
              "          quickchartButtonEl.classList.remove('colab-df-spinner');\n",
              "          quickchartButtonEl.classList.add('colab-df-quickchart-complete');\n",
              "        }\n",
              "        (() => {\n",
              "          let quickchartButtonEl =\n",
              "            document.querySelector('#df-2eb932cc-0468-4779-af2d-94a412c326a1 button');\n",
              "          quickchartButtonEl.style.display =\n",
              "            google.colab.kernel.accessAllowed ? 'block' : 'none';\n",
              "        })();\n",
              "      </script>\n",
              "    </div>\n",
              "\n",
              "    </div>\n",
              "  </div>\n"
            ],
            "application/vnd.google.colaboratory.intrinsic+json": {
              "type": "dataframe",
              "variable_name": "data",
              "summary": "{\n  \"name\": \"data\",\n  \"rows\": 28,\n  \"fields\": [\n    {\n      \"column\": \"Date\",\n      \"properties\": {\n        \"dtype\": \"date\",\n        \"min\": \"2025-04-01 00:00:00-04:00\",\n        \"max\": \"2025-05-09 00:00:00-04:00\",\n        \"num_unique_values\": 28,\n        \"samples\": [\n          \"2025-04-14 00:00:00-04:00\",\n          \"2025-05-07 00:00:00-04:00\",\n          \"2025-04-11 00:00:00-04:00\"\n        ],\n        \"semantic_type\": \"\",\n        \"description\": \"\"\n      }\n    },\n    {\n      \"column\": \"Open\",\n      \"properties\": {\n        \"dtype\": \"number\",\n        \"std\": 11.233591175571373,\n        \"min\": 171.72480450043201,\n        \"max\": 221.03016017035932,\n        \"num_unique_values\": 28,\n        \"samples\": [\n          211.1630921847052,\n          198.90915494694545,\n          185.856281088865\n        ],\n        \"semantic_type\": \"\",\n        \"description\": \"\"\n      }\n    },\n    {\n      \"column\": \"High\",\n      \"properties\": {\n        \"dtype\": \"number\",\n        \"std\": 8.462598199120507,\n        \"min\": 190.09072892121037,\n        \"max\": 224.89508702876748,\n        \"num_unique_values\": 28,\n        \"samples\": [\n          212.6611277249045,\n          199.1788056079939,\n          199.27866665425725\n        ],\n        \"semantic_type\": \"\",\n        \"description\": \"\"\n      }\n    },\n    {\n      \"column\": \"Low\",\n      \"properties\": {\n        \"dtype\": \"number\",\n        \"std\": 12.4085665288371,\n        \"min\": 168.9884109270566,\n        \"max\": 220.73055001137135,\n        \"num_unique_values\": 28,\n        \"samples\": [\n          200.8965565016436,\n          192.99690991055434,\n          185.81632494094944\n        ],\n        \"semantic_type\": \"\",\n        \"description\": \"\"\n      }\n    },\n    {\n      \"column\": \"Close\",\n      \"properties\": {\n        \"dtype\": \"number\",\n        \"std\": 11.056113047095023,\n        \"min\": 172.19419860839844,\n        \"max\": 223.59678649902344,\n        \"num_unique_values\": 28,\n        \"samples\": [\n          202.25477600097656,\n          195.99298095703125,\n          197.89048767089844\n        ],\n        \"semantic_type\": \"\",\n        \"description\": \"\"\n      }\n    },\n    {\n      \"column\": \"Volume\",\n      \"properties\": {\n        \"dtype\": \"number\",\n        \"std\": 39889088,\n        \"min\": 35905900,\n        \"max\": 184395900,\n        \"num_unique_values\": 28,\n        \"samples\": [\n          101352900,\n          68536700,\n          87435900\n        ],\n        \"semantic_type\": \"\",\n        \"description\": \"\"\n      }\n    },\n    {\n      \"column\": \"Dividends\",\n      \"properties\": {\n        \"dtype\": \"number\",\n        \"std\": 0.0,\n        \"min\": 0.0,\n        \"max\": 0.0,\n        \"num_unique_values\": 1,\n        \"samples\": [\n          0.0\n        ],\n        \"semantic_type\": \"\",\n        \"description\": \"\"\n      }\n    },\n    {\n      \"column\": \"Stock Splits\",\n      \"properties\": {\n        \"dtype\": \"number\",\n        \"std\": 0.0,\n        \"min\": 0.0,\n        \"max\": 0.0,\n        \"num_unique_values\": 1,\n        \"samples\": [\n          0.0\n        ],\n        \"semantic_type\": \"\",\n        \"description\": \"\"\n      }\n    }\n  ]\n}"
            }
          },
          "metadata": {},
          "execution_count": 22
        }
      ]
    },
    {
      "cell_type": "code",
      "source": [
        "import pandas_ta as ta\n",
        "\n",
        "# RSI - Relative Strength Index (momentum strength)\n",
        "data['RSI'] = ta.rsi(data['Close'], length=14)\n",
        "\n",
        "data['Close'].isnull().sum()\n",
        "type(data['Close'])\n",
        "\n",
        "# Calculate 12-day and 26-day EMAs\n",
        "ema_12 = data['Close'].ewm(span=12, adjust=False).mean()\n",
        "ema_26 = data['Close'].ewm(span=26, adjust=False).mean()\n",
        "\n",
        "# MACD = EMA(12) - EMA(26)\n",
        "data['MACD'] = ema_12 - ema_26\n",
        "\n",
        "# Signal line = EMA of MACD (9-day)\n",
        "data['MACD_Signal'] = data['MACD'].ewm(span=9, adjust=False).mean()\n",
        "\n",
        "# Histogram = MACD - Signal\n",
        "data['MACD_Hist'] = data['MACD'] - data['MACD_Signal']\n"
      ],
      "metadata": {
        "id": "QNXEnYE7_g65"
      },
      "execution_count": null,
      "outputs": []
    },
    {
      "cell_type": "code",
      "source": [
        "data['SMA_20'] = ta.sma(data['Close'], length=20)\n",
        "\n",
        "# Bollinger Bands (volatility)\n",
        "bb = ta.bbands(data['Close'], length=20, std=2)\n",
        "\n",
        "# Check column names\n",
        "print(bb.columns)\n",
        "data = pd.concat([data, bb], axis=1)\n"
      ],
      "metadata": {
        "colab": {
          "base_uri": "https://localhost:8080/"
        },
        "id": "9q3yJLMiA1ze",
        "outputId": "8635a57e-4af2-4eaa-9ec4-fb1e51e96ac8"
      },
      "execution_count": null,
      "outputs": [
        {
          "output_type": "stream",
          "name": "stdout",
          "text": [
            "Index(['BBL_20_2.0', 'BBM_20_2.0', 'BBU_20_2.0', 'BBB_20_2.0', 'BBP_20_2.0'], dtype='object')\n"
          ]
        }
      ]
    },
    {
      "cell_type": "code",
      "source": [
        "data.columns\n"
      ],
      "metadata": {
        "colab": {
          "base_uri": "https://localhost:8080/"
        },
        "id": "22SEM88hBUdS",
        "outputId": "b6702046-cf68-43ce-d688-a049cc564dce"
      },
      "execution_count": null,
      "outputs": [
        {
          "output_type": "execute_result",
          "data": {
            "text/plain": [
              "Index(['Date', 'Open', 'High', 'Low', 'Close', 'Volume', 'Dividends',\n",
              "       'Stock Splits', 'RSI', 'MACD', 'MACD_Signal', 'MACD_Hist', 'SMA_20',\n",
              "       'BBL_5_2.0', 'BBM_5_2.0', 'BBU_5_2.0', 'BBB_5_2.0', 'BBP_5_2.0',\n",
              "       'BBL_5_2.0', 'BBM_5_2.0', 'BBU_5_2.0', 'BBB_5_2.0', 'BBP_5_2.0',\n",
              "       'BBL_20_2.0', 'BBM_20_2.0', 'BBU_20_2.0', 'BBB_20_2.0', 'BBP_20_2.0'],\n",
              "      dtype='object')"
            ]
          },
          "metadata": {},
          "execution_count": 36
        }
      ]
    },
    {
      "cell_type": "code",
      "source": [
        "focus = data[data['Date'].between(\"2025-04-28\", \"2025-05-05\")]\n",
        "focus = focus[['Date', 'Close', 'RSI', 'MACD', 'MACD_Signal', 'MACD_Hist', 'SMA_20', 'BBL_20_2.0', 'BBM_20_2.0', 'BBU_20_2.0']]\n",
        "focus.dropna(inplace=True)\n"
      ],
      "metadata": {
        "id": "pm3hlXuvBKLj"
      },
      "execution_count": null,
      "outputs": []
    },
    {
      "cell_type": "code",
      "source": [
        "def rsi_signal(rsi):\n",
        "    if rsi > 70:\n",
        "        return \"Overbought\"\n",
        "    elif rsi < 30:\n",
        "        return \"Oversold\"\n",
        "    else:\n",
        "        return \"Neutral\"\n"
      ],
      "metadata": {
        "id": "2oJREFNECGjL"
      },
      "execution_count": null,
      "outputs": []
    },
    {
      "cell_type": "code",
      "source": [
        "focus['RSI_Signal'] = focus['RSI'].apply(rsi_signal)\n",
        "\n"
      ],
      "metadata": {
        "id": "TYtmjtAaCO1l"
      },
      "execution_count": null,
      "outputs": []
    },
    {
      "cell_type": "code",
      "source": [
        "# Trend signal: Price vs SMA\n",
        "def trend_signal(row):\n",
        "    if row['Close'] > row['SMA_20']:\n",
        "        return \"Bullish\"\n",
        "    elif row['Close'] < row['SMA_20']:\n",
        "        return \"Bearish\"\n",
        "    else:\n",
        "        return \"Neutral\"\n",
        "\n",
        "focus['Trend'] = focus.apply(trend_signal, axis=1)"
      ],
      "metadata": {
        "id": "FgGymgA5CUzD"
      },
      "execution_count": null,
      "outputs": []
    },
    {
      "cell_type": "code",
      "source": [
        "# Bullish crossover\n",
        "focus['MACD_Crossover'] = (\n",
        "    (focus['MACD'] > focus['MACD_Signal']) &\n",
        "    (focus['MACD'].shift(1) <= focus['MACD_Signal'].shift(1))\n",
        ")\n",
        "\n",
        "# Bearish crossunder\n",
        "focus['MACD_Crossunder'] = (\n",
        "    (focus['MACD'] < focus['MACD_Signal']) &\n",
        "    (focus['MACD'].shift(1) >= focus['MACD_Signal'].shift(1))\n",
        ")\n"
      ],
      "metadata": {
        "id": "sg2mT0gLCzBx"
      },
      "execution_count": null,
      "outputs": []
    },
    {
      "cell_type": "code",
      "source": [
        "focus.columns\n"
      ],
      "metadata": {
        "colab": {
          "base_uri": "https://localhost:8080/"
        },
        "id": "mP6BrMjZC1X2",
        "outputId": "3c2fc601-03f8-4ebf-c25a-3d14ff60e202"
      },
      "execution_count": null,
      "outputs": [
        {
          "output_type": "execute_result",
          "data": {
            "text/plain": [
              "Index(['Date', 'Close', 'RSI', 'MACD', 'MACD_Signal', 'MACD_Hist', 'SMA_20',\n",
              "       'BBL_20_2.0', 'BBM_20_2.0', 'BBU_20_2.0', 'RSI_Signal', 'Trend',\n",
              "       'MACD_Crossover', 'MACD_Crossunder'],\n",
              "      dtype='object')"
            ]
          },
          "metadata": {},
          "execution_count": 48
        }
      ]
    },
    {
      "cell_type": "code",
      "source": [
        "def bollinger_signal(row):\n",
        "    if row['Close'] > row['BBU_20_2.0']:\n",
        "        return \"Breakout above\"\n",
        "    elif row['Close'] < row['BBL_20_2.0']:\n",
        "        return \"Breakdown below\"\n",
        "    else:\n",
        "        return \"Within Band\"\n"
      ],
      "metadata": {
        "id": "Cc8m7moZDHW8"
      },
      "execution_count": null,
      "outputs": []
    },
    {
      "cell_type": "code",
      "source": [
        "focus['BB_Signal'] = focus.apply(bollinger_signal, axis=1)\n"
      ],
      "metadata": {
        "id": "r12a6ilSDKL1"
      },
      "execution_count": null,
      "outputs": []
    },
    {
      "cell_type": "code",
      "source": [
        "def daily_tech_sentiment(row):\n",
        "    sentiment = []\n",
        "\n",
        "    # RSI\n",
        "    if row['RSI_Signal'] == 'Overbought':\n",
        "        sentiment.append(\"🔴 Overbought\")\n",
        "    elif row['RSI_Signal'] == 'Oversold':\n",
        "        sentiment.append(\"🟢 Oversold\")\n",
        "\n",
        "    # Trend (SMA)\n",
        "    if row['Trend'] == 'Bullish':\n",
        "        sentiment.append(\"🟢 Bullish Trend\")\n",
        "    elif row['Trend'] == 'Bearish':\n",
        "        sentiment.append(\"🔴 Bearish Trend\")\n",
        "\n",
        "    # MACD\n",
        "    if row['MACD_Crossover']:\n",
        "        sentiment.append(\"🟢 MACD Bullish Crossover\")\n",
        "    if row['MACD_Crossunder']:\n",
        "        sentiment.append(\"🔴 MACD Bearish Crossunder\")\n",
        "\n",
        "    # Bollinger Band\n",
        "    if row['BB_Signal'] == 'Breakout above':\n",
        "        sentiment.append(\"🟢 Price broke above Bollinger\")\n",
        "    elif row['BB_Signal'] == 'Breakdown below':\n",
        "        sentiment.append(\"🔴 Price broke below Bollinger\")\n",
        "\n",
        "    return \", \".join(sentiment)\n"
      ],
      "metadata": {
        "id": "I2sS6c8jBxqH"
      },
      "execution_count": null,
      "outputs": []
    },
    {
      "cell_type": "code",
      "source": [
        "focus['Tech_Sentiment'] = focus.apply(daily_tech_sentiment, axis=1)\n",
        "focus[['Date', 'Close', 'Tech_Sentiment']]\n"
      ],
      "metadata": {
        "colab": {
          "base_uri": "https://localhost:8080/",
          "height": 206
        },
        "id": "F93_dZypB1Ri",
        "outputId": "e01dfc0f-30a6-4572-fdcb-3a4a052ad57f"
      },
      "execution_count": null,
      "outputs": [
        {
          "output_type": "execute_result",
          "data": {
            "text/plain": [
              "                        Date       Close   Tech_Sentiment\n",
              "19 2025-04-29 00:00:00-04:00  210.933395  🟢 Bullish Trend\n",
              "20 2025-04-30 00:00:00-04:00  212.221710  🟢 Bullish Trend\n",
              "21 2025-05-01 00:00:00-04:00  213.040634  🟢 Bullish Trend\n",
              "22 2025-05-02 00:00:00-04:00  205.081070  🟢 Bullish Trend\n",
              "23 2025-05-05 00:00:00-04:00  198.629532  🔴 Bearish Trend"
            ],
            "text/html": [
              "\n",
              "  <div id=\"df-30562706-c86f-4a87-9b9f-593e83195749\" class=\"colab-df-container\">\n",
              "    <div>\n",
              "<style scoped>\n",
              "    .dataframe tbody tr th:only-of-type {\n",
              "        vertical-align: middle;\n",
              "    }\n",
              "\n",
              "    .dataframe tbody tr th {\n",
              "        vertical-align: top;\n",
              "    }\n",
              "\n",
              "    .dataframe thead th {\n",
              "        text-align: right;\n",
              "    }\n",
              "</style>\n",
              "<table border=\"1\" class=\"dataframe\">\n",
              "  <thead>\n",
              "    <tr style=\"text-align: right;\">\n",
              "      <th></th>\n",
              "      <th>Date</th>\n",
              "      <th>Close</th>\n",
              "      <th>Tech_Sentiment</th>\n",
              "    </tr>\n",
              "  </thead>\n",
              "  <tbody>\n",
              "    <tr>\n",
              "      <th>19</th>\n",
              "      <td>2025-04-29 00:00:00-04:00</td>\n",
              "      <td>210.933395</td>\n",
              "      <td>🟢 Bullish Trend</td>\n",
              "    </tr>\n",
              "    <tr>\n",
              "      <th>20</th>\n",
              "      <td>2025-04-30 00:00:00-04:00</td>\n",
              "      <td>212.221710</td>\n",
              "      <td>🟢 Bullish Trend</td>\n",
              "    </tr>\n",
              "    <tr>\n",
              "      <th>21</th>\n",
              "      <td>2025-05-01 00:00:00-04:00</td>\n",
              "      <td>213.040634</td>\n",
              "      <td>🟢 Bullish Trend</td>\n",
              "    </tr>\n",
              "    <tr>\n",
              "      <th>22</th>\n",
              "      <td>2025-05-02 00:00:00-04:00</td>\n",
              "      <td>205.081070</td>\n",
              "      <td>🟢 Bullish Trend</td>\n",
              "    </tr>\n",
              "    <tr>\n",
              "      <th>23</th>\n",
              "      <td>2025-05-05 00:00:00-04:00</td>\n",
              "      <td>198.629532</td>\n",
              "      <td>🔴 Bearish Trend</td>\n",
              "    </tr>\n",
              "  </tbody>\n",
              "</table>\n",
              "</div>\n",
              "    <div class=\"colab-df-buttons\">\n",
              "\n",
              "  <div class=\"colab-df-container\">\n",
              "    <button class=\"colab-df-convert\" onclick=\"convertToInteractive('df-30562706-c86f-4a87-9b9f-593e83195749')\"\n",
              "            title=\"Convert this dataframe to an interactive table.\"\n",
              "            style=\"display:none;\">\n",
              "\n",
              "  <svg xmlns=\"http://www.w3.org/2000/svg\" height=\"24px\" viewBox=\"0 -960 960 960\">\n",
              "    <path d=\"M120-120v-720h720v720H120Zm60-500h600v-160H180v160Zm220 220h160v-160H400v160Zm0 220h160v-160H400v160ZM180-400h160v-160H180v160Zm440 0h160v-160H620v160ZM180-180h160v-160H180v160Zm440 0h160v-160H620v160Z\"/>\n",
              "  </svg>\n",
              "    </button>\n",
              "\n",
              "  <style>\n",
              "    .colab-df-container {\n",
              "      display:flex;\n",
              "      gap: 12px;\n",
              "    }\n",
              "\n",
              "    .colab-df-convert {\n",
              "      background-color: #E8F0FE;\n",
              "      border: none;\n",
              "      border-radius: 50%;\n",
              "      cursor: pointer;\n",
              "      display: none;\n",
              "      fill: #1967D2;\n",
              "      height: 32px;\n",
              "      padding: 0 0 0 0;\n",
              "      width: 32px;\n",
              "    }\n",
              "\n",
              "    .colab-df-convert:hover {\n",
              "      background-color: #E2EBFA;\n",
              "      box-shadow: 0px 1px 2px rgba(60, 64, 67, 0.3), 0px 1px 3px 1px rgba(60, 64, 67, 0.15);\n",
              "      fill: #174EA6;\n",
              "    }\n",
              "\n",
              "    .colab-df-buttons div {\n",
              "      margin-bottom: 4px;\n",
              "    }\n",
              "\n",
              "    [theme=dark] .colab-df-convert {\n",
              "      background-color: #3B4455;\n",
              "      fill: #D2E3FC;\n",
              "    }\n",
              "\n",
              "    [theme=dark] .colab-df-convert:hover {\n",
              "      background-color: #434B5C;\n",
              "      box-shadow: 0px 1px 3px 1px rgba(0, 0, 0, 0.15);\n",
              "      filter: drop-shadow(0px 1px 2px rgba(0, 0, 0, 0.3));\n",
              "      fill: #FFFFFF;\n",
              "    }\n",
              "  </style>\n",
              "\n",
              "    <script>\n",
              "      const buttonEl =\n",
              "        document.querySelector('#df-30562706-c86f-4a87-9b9f-593e83195749 button.colab-df-convert');\n",
              "      buttonEl.style.display =\n",
              "        google.colab.kernel.accessAllowed ? 'block' : 'none';\n",
              "\n",
              "      async function convertToInteractive(key) {\n",
              "        const element = document.querySelector('#df-30562706-c86f-4a87-9b9f-593e83195749');\n",
              "        const dataTable =\n",
              "          await google.colab.kernel.invokeFunction('convertToInteractive',\n",
              "                                                    [key], {});\n",
              "        if (!dataTable) return;\n",
              "\n",
              "        const docLinkHtml = 'Like what you see? Visit the ' +\n",
              "          '<a target=\"_blank\" href=https://colab.research.google.com/notebooks/data_table.ipynb>data table notebook</a>'\n",
              "          + ' to learn more about interactive tables.';\n",
              "        element.innerHTML = '';\n",
              "        dataTable['output_type'] = 'display_data';\n",
              "        await google.colab.output.renderOutput(dataTable, element);\n",
              "        const docLink = document.createElement('div');\n",
              "        docLink.innerHTML = docLinkHtml;\n",
              "        element.appendChild(docLink);\n",
              "      }\n",
              "    </script>\n",
              "  </div>\n",
              "\n",
              "\n",
              "    <div id=\"df-8db6025f-022d-488c-bd0d-d752dab7042f\">\n",
              "      <button class=\"colab-df-quickchart\" onclick=\"quickchart('df-8db6025f-022d-488c-bd0d-d752dab7042f')\"\n",
              "                title=\"Suggest charts\"\n",
              "                style=\"display:none;\">\n",
              "\n",
              "<svg xmlns=\"http://www.w3.org/2000/svg\" height=\"24px\"viewBox=\"0 0 24 24\"\n",
              "     width=\"24px\">\n",
              "    <g>\n",
              "        <path d=\"M19 3H5c-1.1 0-2 .9-2 2v14c0 1.1.9 2 2 2h14c1.1 0 2-.9 2-2V5c0-1.1-.9-2-2-2zM9 17H7v-7h2v7zm4 0h-2V7h2v10zm4 0h-2v-4h2v4z\"/>\n",
              "    </g>\n",
              "</svg>\n",
              "      </button>\n",
              "\n",
              "<style>\n",
              "  .colab-df-quickchart {\n",
              "      --bg-color: #E8F0FE;\n",
              "      --fill-color: #1967D2;\n",
              "      --hover-bg-color: #E2EBFA;\n",
              "      --hover-fill-color: #174EA6;\n",
              "      --disabled-fill-color: #AAA;\n",
              "      --disabled-bg-color: #DDD;\n",
              "  }\n",
              "\n",
              "  [theme=dark] .colab-df-quickchart {\n",
              "      --bg-color: #3B4455;\n",
              "      --fill-color: #D2E3FC;\n",
              "      --hover-bg-color: #434B5C;\n",
              "      --hover-fill-color: #FFFFFF;\n",
              "      --disabled-bg-color: #3B4455;\n",
              "      --disabled-fill-color: #666;\n",
              "  }\n",
              "\n",
              "  .colab-df-quickchart {\n",
              "    background-color: var(--bg-color);\n",
              "    border: none;\n",
              "    border-radius: 50%;\n",
              "    cursor: pointer;\n",
              "    display: none;\n",
              "    fill: var(--fill-color);\n",
              "    height: 32px;\n",
              "    padding: 0;\n",
              "    width: 32px;\n",
              "  }\n",
              "\n",
              "  .colab-df-quickchart:hover {\n",
              "    background-color: var(--hover-bg-color);\n",
              "    box-shadow: 0 1px 2px rgba(60, 64, 67, 0.3), 0 1px 3px 1px rgba(60, 64, 67, 0.15);\n",
              "    fill: var(--button-hover-fill-color);\n",
              "  }\n",
              "\n",
              "  .colab-df-quickchart-complete:disabled,\n",
              "  .colab-df-quickchart-complete:disabled:hover {\n",
              "    background-color: var(--disabled-bg-color);\n",
              "    fill: var(--disabled-fill-color);\n",
              "    box-shadow: none;\n",
              "  }\n",
              "\n",
              "  .colab-df-spinner {\n",
              "    border: 2px solid var(--fill-color);\n",
              "    border-color: transparent;\n",
              "    border-bottom-color: var(--fill-color);\n",
              "    animation:\n",
              "      spin 1s steps(1) infinite;\n",
              "  }\n",
              "\n",
              "  @keyframes spin {\n",
              "    0% {\n",
              "      border-color: transparent;\n",
              "      border-bottom-color: var(--fill-color);\n",
              "      border-left-color: var(--fill-color);\n",
              "    }\n",
              "    20% {\n",
              "      border-color: transparent;\n",
              "      border-left-color: var(--fill-color);\n",
              "      border-top-color: var(--fill-color);\n",
              "    }\n",
              "    30% {\n",
              "      border-color: transparent;\n",
              "      border-left-color: var(--fill-color);\n",
              "      border-top-color: var(--fill-color);\n",
              "      border-right-color: var(--fill-color);\n",
              "    }\n",
              "    40% {\n",
              "      border-color: transparent;\n",
              "      border-right-color: var(--fill-color);\n",
              "      border-top-color: var(--fill-color);\n",
              "    }\n",
              "    60% {\n",
              "      border-color: transparent;\n",
              "      border-right-color: var(--fill-color);\n",
              "    }\n",
              "    80% {\n",
              "      border-color: transparent;\n",
              "      border-right-color: var(--fill-color);\n",
              "      border-bottom-color: var(--fill-color);\n",
              "    }\n",
              "    90% {\n",
              "      border-color: transparent;\n",
              "      border-bottom-color: var(--fill-color);\n",
              "    }\n",
              "  }\n",
              "</style>\n",
              "\n",
              "      <script>\n",
              "        async function quickchart(key) {\n",
              "          const quickchartButtonEl =\n",
              "            document.querySelector('#' + key + ' button');\n",
              "          quickchartButtonEl.disabled = true;  // To prevent multiple clicks.\n",
              "          quickchartButtonEl.classList.add('colab-df-spinner');\n",
              "          try {\n",
              "            const charts = await google.colab.kernel.invokeFunction(\n",
              "                'suggestCharts', [key], {});\n",
              "          } catch (error) {\n",
              "            console.error('Error during call to suggestCharts:', error);\n",
              "          }\n",
              "          quickchartButtonEl.classList.remove('colab-df-spinner');\n",
              "          quickchartButtonEl.classList.add('colab-df-quickchart-complete');\n",
              "        }\n",
              "        (() => {\n",
              "          let quickchartButtonEl =\n",
              "            document.querySelector('#df-8db6025f-022d-488c-bd0d-d752dab7042f button');\n",
              "          quickchartButtonEl.style.display =\n",
              "            google.colab.kernel.accessAllowed ? 'block' : 'none';\n",
              "        })();\n",
              "      </script>\n",
              "    </div>\n",
              "\n",
              "    </div>\n",
              "  </div>\n"
            ],
            "application/vnd.google.colaboratory.intrinsic+json": {
              "type": "dataframe",
              "summary": "{\n  \"name\": \"focus[['Date', 'Close', 'Tech_Sentiment']]\",\n  \"rows\": 5,\n  \"fields\": [\n    {\n      \"column\": \"Date\",\n      \"properties\": {\n        \"dtype\": \"date\",\n        \"min\": \"2025-04-29 00:00:00-04:00\",\n        \"max\": \"2025-05-05 00:00:00-04:00\",\n        \"num_unique_values\": 5,\n        \"samples\": [\n          \"2025-04-30 00:00:00-04:00\",\n          \"2025-05-05 00:00:00-04:00\",\n          \"2025-05-01 00:00:00-04:00\"\n        ],\n        \"semantic_type\": \"\",\n        \"description\": \"\"\n      }\n    },\n    {\n      \"column\": \"Close\",\n      \"properties\": {\n        \"dtype\": \"number\",\n        \"std\": 6.0860436587683555,\n        \"min\": 198.62953186035156,\n        \"max\": 213.04063415527344,\n        \"num_unique_values\": 5,\n        \"samples\": [\n          212.22171020507812,\n          198.62953186035156,\n          213.04063415527344\n        ],\n        \"semantic_type\": \"\",\n        \"description\": \"\"\n      }\n    },\n    {\n      \"column\": \"Tech_Sentiment\",\n      \"properties\": {\n        \"dtype\": \"category\",\n        \"num_unique_values\": 2,\n        \"samples\": [\n          \"\\ud83d\\udd34 Bearish Trend\",\n          \"\\ud83d\\udfe2 Bullish Trend\"\n        ],\n        \"semantic_type\": \"\",\n        \"description\": \"\"\n      }\n    }\n  ]\n}"
            }
          },
          "metadata": {},
          "execution_count": 55
        }
      ]
    },
    {
      "cell_type": "code",
      "source": [
        "tech_day = focus[focus['Date'] == \"2025-05-01\"].iloc[0]\n"
      ],
      "metadata": {
        "id": "ePAsnXZUDg_A"
      },
      "execution_count": null,
      "outputs": []
    },
    {
      "cell_type": "code",
      "source": [
        "analysis_summary = {\n",
        "    \"Company\": \"Apple\",\n",
        "    \"Earnings_Date\": \"2025-05-01\",\n",
        "\n",
        "    # FinBERT Tone\n",
        "    \"Call_Tone\": call_summary,\n",
        "\n",
        "    # News Sentiment\n",
        "    \"News_Tone\": news_summary,\n",
        "\n",
        "    # Chart Sentiment (on earnings day)\n",
        "    \"Chart_Close_Price\": tech_day['Close'],\n",
        "    \"Chart_Signal\": tech_day['Tech_Sentiment'],\n",
        "\n",
        "    # Optional logic-based conclusion\n",
        "    \"Interpretation\": \"\"\n",
        "}\n"
      ],
      "metadata": {
        "id": "vF9iMmxGDjQs"
      },
      "execution_count": null,
      "outputs": []
    },
    {
      "cell_type": "code",
      "source": [
        "# Simple logic to interpret\n",
        "if call_summary['positive'] > call_summary['negative'] and 'Bearish' in tech_day['Tech_Sentiment']:\n",
        "    analysis_summary['Interpretation'] = \"Tone was positive but chart shows bearish reversal. Possibly priced-in optimism or market overreaction.\"\n",
        "elif news_summary['negative'] > call_summary['negative']:\n",
        "    analysis_summary['Interpretation'] = \"Media sentiment was more negative than the tone of the call, which may have led to market selling.\"\n",
        "else:\n",
        "    analysis_summary['Interpretation'] = \"Market tone, media, and chart signals aligned. Strong investor confidence.\"\n"
      ],
      "metadata": {
        "id": "QJefoz6bDmLv"
      },
      "execution_count": null,
      "outputs": []
    },
    {
      "cell_type": "code",
      "source": [
        "from pprint import pprint\n",
        "pprint(analysis_summary)\n"
      ],
      "metadata": {
        "colab": {
          "base_uri": "https://localhost:8080/"
        },
        "id": "um2QhVnIDptn",
        "outputId": "466c9707-561b-48c5-c5c6-d4ad9a5cca64"
      },
      "execution_count": null,
      "outputs": [
        {
          "output_type": "stream",
          "name": "stdout",
          "text": [
            "{'Call_Tone': {'negative': 17, 'neutral': 372, 'positive': 126},\n",
            " 'Chart_Close_Price': 213.04063415527344,\n",
            " 'Chart_Signal': '🟢 Bullish Trend',\n",
            " 'Company': 'Apple',\n",
            " 'Earnings_Date': '2025-05-01',\n",
            " 'Interpretation': 'Market tone, media, and chart signals aligned. Strong '\n",
            "                   'investor confidence.',\n",
            " 'News_Tone': Counter({'neutral': 7, 'negative': 2, 'positive': 1})}\n"
          ]
        }
      ]
    },
    {
      "cell_type": "code",
      "source": [
        "if change_1d < 0 and 'Bullish' in tech_day['Tech_Sentiment']:\n",
        "    analysis_summary['Interpretation'] = \"Despite bullish technicals on earnings day, the market reacted negatively. Possibly due to poor guidance, media tone, or profit-taking.\"\n"
      ],
      "metadata": {
        "id": "Rwt8AbmbEO-z"
      },
      "execution_count": null,
      "outputs": []
    },
    {
      "cell_type": "code",
      "source": [
        "analysis_summary['1D_Price_Change'] = change_1d\n",
        "analysis_summary['3D_Price_Change'] = change_3d\n"
      ],
      "metadata": {
        "id": "KCEupx35ESRP"
      },
      "execution_count": null,
      "outputs": []
    },
    {
      "cell_type": "code",
      "source": [
        "pprint(analysis_summary)"
      ],
      "metadata": {
        "id": "hG0j_ZvAEVsO",
        "outputId": "e291840c-1514-4fdc-b2de-9a3261318b7b",
        "colab": {
          "base_uri": "https://localhost:8080/"
        }
      },
      "execution_count": null,
      "outputs": [
        {
          "output_type": "stream",
          "name": "stdout",
          "text": [
            "{'1D_Price_Change': -3.36,\n",
            " '3D_Price_Change': -6.4,\n",
            " 'Call_Tone': {'negative': 17, 'neutral': 372, 'positive': 126},\n",
            " 'Chart_Close_Price': 213.04063415527344,\n",
            " 'Chart_Signal': '🟢 Bullish Trend',\n",
            " 'Company': 'Apple',\n",
            " 'Earnings_Date': '2025-05-01',\n",
            " 'Interpretation': 'Despite bullish technicals on earnings day, the market '\n",
            "                   'reacted negatively. Possibly due to poor guidance, media '\n",
            "                   'tone, or profit-taking.',\n",
            " 'News_Tone': Counter({'neutral': 7, 'negative': 2, 'positive': 1})}\n"
          ]
        }
      ]
    }
  ]
}